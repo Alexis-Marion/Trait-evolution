{
 "cells": [
  {
   "cell_type": "markdown",
   "metadata": {},
   "source": [
    "# Plotting ancestral state"
   ]
  },
  {
   "cell_type": "markdown",
   "metadata": {},
   "source": [
    "### Loading packages"
   ]
  },
  {
   "cell_type": "code",
   "execution_count": null,
   "metadata": {},
   "outputs": [],
   "source": [
    "library(\"corHMM\")\n",
    "library(\"stringr\")\n",
    "library(\"phytools\")\n",
    "library(\"secsse\")\n",
    "library(\"ggtree\")\n",
    "library(\"RColorBrewer\")\n",
    "library(\"ggplot2\")\n",
    "library(\"ggpmisc\")"
   ]
  },
  {
   "cell_type": "markdown",
   "metadata": {},
   "source": [
    "### Loading data"
   ]
  },
  {
   "cell_type": "code",
   "execution_count": null,
   "metadata": {},
   "outputs": [],
   "source": [
    "df<-read.csv(\"example_data.tsv\", sep=\"\\t\", header =TRUE) # omit sep =\"\\t\" for .csv files\n",
    "phy<-read.tree(\"example_tree.tree\") #phy<-read.nexus(\"example_tree.nex\")"
   ]
  },
  {
   "cell_type": "markdown",
   "metadata": {},
   "source": [
    "### Cleaning and preparing data"
   ]
  },
  {
   "cell_type": "code",
   "execution_count": null,
   "metadata": {},
   "outputs": [],
   "source": [
    "states<-df[,c(1,2)]\n",
    "states_traits<-states[!states[,1] %in% setdiff(states[,1], phy$tip.label),]\n",
    "colnames(states_traits)<-c(\"Species\", \"Cat\")\n",
    "states_traits[is.na(states_traits)]<-\"?\"\n",
    "states_traits$Cat<-as.character(states_traits$Cat)"
   ]
  },
  {
   "cell_type": "markdown",
   "metadata": {},
   "source": [
    "### Loading the best-fitting model"
   ]
  },
  {
   "cell_type": "code",
   "execution_count": null,
   "metadata": {},
   "outputs": [],
   "source": [
    "best_fitting_model<-readRDS(\"data_BF_BT.rds\")"
   ]
  },
  {
   "cell_type": "markdown",
   "metadata": {},
   "source": [
    "### Creating a function to plot ancestral states"
   ]
  },
  {
   "cell_type": "code",
   "execution_count": null,
   "metadata": {},
   "outputs": [],
   "source": [
    "ASE_plot_maker<-function(phy, trait_model, data_states_model){\n",
    "phylo<-ggtree(phy, layout=\"fan\", open.angle=180)  + \n",
    "           theme_bw() +\n",
    "           theme(panel.border = element_blank(),\n",
    "           legend.key = element_blank(),\n",
    "           axis.ticks = element_blank(),\n",
    "           axis.text.y = element_blank(),\n",
    "           axis.text.x = element_blank(),\n",
    "           panel.grid = element_blank(),\n",
    "           panel.grid.minor = element_blank(), \n",
    "           panel.grid.major = element_blank(),\n",
    "           panel.background = element_blank(),\n",
    "           plot.background = element_rect(fill = \"transparent\",colour = NA))\n",
    "\n",
    "node_states_traits<-trait_model$states\n",
    "\n",
    "### assuming you have no polytomies\n",
    "\n",
    "node_states<-c((length(phy$tip.label)+1):(2*length(phy$tip.label)-1))\n",
    "\n",
    "### assuming you have a binary trait    \n",
    "\n",
    "    if(trait_model$rate.cat == 1){\n",
    "        col1 <- (node_states_traits[,1])\n",
    "        col2 <- (node_states_traits[,2])\n",
    "    }\n",
    "    if(trait_model$rate.cat == 2){\n",
    "        col1 <- (node_states_traits[,1]+node_states_traits[,3])\n",
    "        col2 <- (node_states_traits[,2]+node_states_traits[,4])\n",
    "    }\n",
    "    if(trait_model$rate.cat == 3){\n",
    "        col1 <- (node_states_traits[,1]+node_states_traits[,3]+node_states_traits[,5])\n",
    "        col2 <- (node_states_traits[,2]+node_states_traits[,4]+node_states_traits[,6])\n",
    "    }\n",
    "    node_states_traits<-cbind(col1, col2, node_states)\n",
    "    colnames(node_states_traits)<-c(\"No\", \"Yes\", \"node\")\n",
    "    node_states_traits<-as.data.frame(node_states_traits)\n",
    "    saveRDS(node_states_traits, \"data_categorical_trait.rds\")\n",
    "    pies <- nodepie(node_states_traits, cols=1:2, color=c(\"#9E0142\", \"#74BDCB\"), alpha=1)\n",
    "    df<-tibble::tibble(node=as.numeric(node_states_traits$node), pies=pies)\n",
    "    phylo_node <- phylo %<+% df\n",
    "    phylo_complete<-phylo_node + geom_plot(data=td_filter(!isTip), mapping=aes(x=x,y=y, label=pies), vp.width=0.03, vp.height=0.03, hjust=0.5, vjust=0.5)\n",
    "    phylo_complete<-phylo_complete %<+% as.data.frame(states_traits)\n",
    "    \n",
    "    ASE_plot<-phylo_complete + geom_tippoint(data=td_filter(isTip), aes(color=Cat), size=1) + scale_color_manual(values=c(\"#9E0142\", \"#74BDCB\"))\n",
    "\n",
    "ggsave(ASE_plot, filename = \"Ase_plot.pdf\",  bg = \"transparent\", width = 10, height = 10)\n",
    "}"
   ]
  },
  {
   "cell_type": "markdown",
   "metadata": {},
   "source": [
    "### Running the function"
   ]
  },
  {
   "cell_type": "code",
   "execution_count": null,
   "metadata": {},
   "outputs": [],
   "source": [
    "ASE_plot_maker(phy, best_fitting_model, states_traits)"
   ]
  }
 ],
 "metadata": {
  "kernelspec": {
   "display_name": "R",
   "language": "R",
   "name": "ir"
  },
  "language_info": {
   "codemirror_mode": "r",
   "file_extension": ".r",
   "mimetype": "text/x-r-source",
   "name": "R",
   "pygments_lexer": "r",
   "version": "4.3.3"
  }
 },
 "nbformat": 4,
 "nbformat_minor": 4
}
