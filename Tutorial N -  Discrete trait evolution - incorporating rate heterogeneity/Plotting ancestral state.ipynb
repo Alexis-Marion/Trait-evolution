{
 "cells": [
  {
   "cell_type": "markdown",
   "metadata": {},
   "source": [
    "# Plotting ancestral state"
   ]
  },
  {
   "cell_type": "markdown",
   "metadata": {},
   "source": [
    "### Loading packages"
   ]
  },
  {
   "cell_type": "code",
   "execution_count": 1,
   "metadata": {},
   "outputs": [
    {
     "name": "stderr",
     "output_type": "stream",
     "text": [
      "Le chargement a nécessité le package : ape\n",
      "\n",
      "Le chargement a nécessité le package : nloptr\n",
      "\n",
      "Le chargement a nécessité le package : GenSA\n",
      "\n",
      "Le chargement a nécessité le package : maps\n",
      "\n",
      "\u001b[90mggtree v3.10.1 For help: https://yulab-smu.top/treedata-book/\n",
      "\n",
      "If you use the ggtree package suite in published research, please cite\n",
      "the appropriate paper(s):\n",
      "\n",
      "Guangchuang Yu, David Smith, Huachen Zhu, Yi Guan, Tommy Tsan-Yuk Lam.\n",
      "ggtree: an R package for visualization and annotation of phylogenetic\n",
      "trees with their covariates and other associated data. Methods in\n",
      "Ecology and Evolution. 2017, 8(1):28-36. doi:10.1111/2041-210X.12628\n",
      "\n",
      "Shuangbin Xu, Lin Li, Xiao Luo, Meijun Chen, Wenli Tang, Li Zhan, Zehan\n",
      "Dai, Tommy T. Lam, Yi Guan, Guangchuang Yu. Ggtree: A serialized data\n",
      "object for visualization of a phylogenetic tree and annotation data.\n",
      "iMeta 2022, 1(4):e56. doi:10.1002/imt2.56\n",
      "\n",
      "Guangchuang Yu.  Data Integration, Manipulation and Visualization of\n",
      "Phylogenetic Trees (1st edition). Chapman and Hall/CRC. 2022,\n",
      "doi:10.1201/9781003279242 \u001b[39m\n",
      "\n",
      "\n",
      "Attachement du package : ‘ggtree’\n",
      "\n",
      "\n",
      "L'objet suivant est masqué depuis ‘package:ape’:\n",
      "\n",
      "    rotate\n",
      "\n",
      "\n",
      "Le chargement a nécessité le package : ggpp\n",
      "\n",
      "Registered S3 methods overwritten by 'ggpp':\n",
      "  method                  from   \n",
      "  heightDetails.titleGrob ggplot2\n",
      "  widthDetails.titleGrob  ggplot2\n",
      "\n",
      "\n",
      "Attachement du package : ‘ggpp’\n",
      "\n",
      "\n",
      "L'objet suivant est masqué depuis ‘package:ggplot2’:\n",
      "\n",
      "    annotate\n",
      "\n",
      "\n",
      "Registered S3 method overwritten by 'ggpmisc':\n",
      "  method                  from   \n",
      "  as.character.polynomial polynom\n",
      "\n"
     ]
    }
   ],
   "source": [
    "library(\"corHMM\")\n",
    "library(\"stringr\")\n",
    "library(\"phytools\")\n",
    "library(\"secsse\")\n",
    "library(\"ggtree\")\n",
    "library(\"RColorBrewer\")\n",
    "library(\"ggplot2\")\n",
    "library(\"ggpmisc\")"
   ]
  },
  {
   "cell_type": "markdown",
   "metadata": {},
   "source": [
    "### Loading data"
   ]
  },
  {
   "cell_type": "code",
   "execution_count": 2,
   "metadata": {},
   "outputs": [],
   "source": [
    "df<-read.csv(\"example_data_MT.tsv\", sep=\"\\t\", header =TRUE) # omit sep =\"\\t\" for .csv files\n",
    "phy<-read.tree(\"example_tree.tree\") #phy<-read.nexus(\"example_tree.nex\")"
   ]
  },
  {
   "cell_type": "markdown",
   "metadata": {},
   "source": [
    "### Cleaning and preparing data"
   ]
  },
  {
   "cell_type": "code",
   "execution_count": 3,
   "metadata": {},
   "outputs": [],
   "source": [
    "states<-df[,c(1,2)]\n",
    "states_traits<-states[!states[,1] %in% setdiff(states[,1], phy$tip.label),]\n",
    "colnames(states_traits)<-c(\"Species\", \"Cat\")\n",
    "states_traits[is.na(states_traits)]<-\"?\"\n",
    "states_traits$Cat<-as.character(states_traits$Cat)"
   ]
  },
  {
   "cell_type": "markdown",
   "metadata": {},
   "source": [
    "### Loading the best-fitting model"
   ]
  },
  {
   "cell_type": "code",
   "execution_count": 4,
   "metadata": {},
   "outputs": [],
   "source": [
    "best_fitting_model<-readRDS(\"data_BF_MT.rds\")"
   ]
  },
  {
   "cell_type": "markdown",
   "metadata": {},
   "source": [
    "### Creating a function to plot ancestral states"
   ]
  },
  {
   "cell_type": "code",
   "execution_count": 5,
   "metadata": {},
   "outputs": [],
   "source": [
    "ASE_plot_maker<-function(phy, trait_model, data_states_model){\n",
    "phylo<-ggtree(phy, layout=\"fan\", open.angle=180)  + \n",
    "           theme_bw() +\n",
    "           theme(panel.border = element_blank(),\n",
    "           legend.key = element_blank(),\n",
    "           axis.ticks = element_blank(),\n",
    "           axis.text.y = element_blank(),\n",
    "           axis.text.x = element_blank(),\n",
    "           panel.grid = element_blank(),\n",
    "           panel.grid.minor = element_blank(), \n",
    "           panel.grid.major = element_blank(),\n",
    "           panel.background = element_blank(),\n",
    "           plot.background = element_rect(fill = \"transparent\",colour = NA))\n",
    "\n",
    "node_states_traits<-trait_model$states\n",
    "\n",
    "### assuming you have no polytomies\n",
    "\n",
    "node_states<-c((length(phy$tip.label)+1):(2*length(phy$tip.label)-1))  \n",
    "\n",
    "nb_states<-length(unique(trait_model$data[,2]))\n",
    "node_states_traits_ase<-c()\n",
    "for (i in 1:nb_states){\n",
    "    if(trait_model$rate.cat == 1){\n",
    "        col<-node_states_traits[,i]\n",
    "        node_states_traits_ase<-cbind(node_states_traits_ase, col)\n",
    "    }\n",
    "        if(trait_model$rate.cat == 2){\n",
    "        col<-node_states_traits[,i] + node_states_traits[,i+nb_states] \n",
    "        node_states_traits_ase<-cbind(node_states_traits_ase, col)\n",
    "    }\n",
    "        if(trait_model$rate.cat == 3){\n",
    "        col<-node_states_traits[,i] + node_states_traits[,i+nb_states] + node_states_traits[,i+2*nb_states] \n",
    "        node_states_traits_ase<-cbind(node_states_traits_ase, col)\n",
    "    }\n",
    "}\n",
    "    node_states_traits_ase<-cbind(node_states_traits_ase, node_states)\n",
    "    node_states_traits_ase<-as.data.frame(node_states_traits_ase)\n",
    "    colnames(node_states_traits_ase)<-c(1:nb_states,\"node\")\n",
    "    saveRDS(node_states_traits, \"data_categorical_trait.rds\")\n",
    "    pies <- nodepie(node_states_traits_ase, cols=1:nb_states, color=c(\"#9E0142\", \"#74BDCB\", \"#5E4FA2\", \"#FEE08B\", \"#BEDCEB\", \"#FFA384\"), alpha=1)\n",
    "    df<-tibble::tibble(node=as.numeric(node_states_traits_ase$node), pies=pies)\n",
    "    phylo_node <- phylo %<+% df\n",
    "    phylo_complete<-phylo_node + geom_plot(data=td_filter(!isTip), mapping=aes(x=x,y=y, label=pies), vp.width=0.03, vp.height=0.03, hjust=0.5, vjust=0.5)\n",
    "    phylo_complete<-phylo_complete %<+% as.data.frame(states_traits)\n",
    "    \n",
    "    ASE_plot<-phylo_complete + geom_tippoint(data=td_filter(isTip), aes(color=Cat), size=1) + scale_color_manual(values=c(\"#9E0142\", \"#74BDCB\", \"#5E4FA2\", \"#FEE08B\", \"#BEDCEB\", \"#FFA384\"))\n",
    "\n",
    "ggsave(ASE_plot, filename = \"Ase_plot.pdf\",  bg = \"transparent\", width = 10, height = 10)\n",
    "}"
   ]
  },
  {
   "cell_type": "markdown",
   "metadata": {},
   "source": [
    "### Running the function"
   ]
  },
  {
   "cell_type": "code",
   "execution_count": 6,
   "metadata": {
    "scrolled": true
   },
   "outputs": [
    {
     "name": "stderr",
     "output_type": "stream",
     "text": [
      "\u001b[1m\u001b[22mScale for \u001b[32my\u001b[39m is already present.\n",
      "Adding another scale for \u001b[32my\u001b[39m, which will replace the existing scale.\n"
     ]
    }
   ],
   "source": [
    "ASE_plot_maker(phy, best_fitting_model, states_traits)"
   ]
  }
 ],
 "metadata": {
  "kernelspec": {
   "display_name": "R",
   "language": "R",
   "name": "ir"
  },
  "language_info": {
   "codemirror_mode": "r",
   "file_extension": ".r",
   "mimetype": "text/x-r-source",
   "name": "R",
   "pygments_lexer": "r",
   "version": "4.3.3"
  }
 },
 "nbformat": 4,
 "nbformat_minor": 4
}
