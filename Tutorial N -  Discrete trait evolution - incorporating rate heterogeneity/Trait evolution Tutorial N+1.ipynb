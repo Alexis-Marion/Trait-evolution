{
 "cells": [
  {
   "cell_type": "markdown",
   "metadata": {},
   "source": [
    "# Tutorial N+1"
   ]
  },
  {
   "cell_type": "markdown",
   "metadata": {},
   "source": [
    "## Discrete trait evolution - incorporating rate heterogeneity - Multiple States"
   ]
  },
  {
   "cell_type": "markdown",
   "metadata": {},
   "source": [
    "### Loading packages"
   ]
  },
  {
   "cell_type": "code",
   "execution_count": 1,
   "metadata": {
    "scrolled": true
   },
   "outputs": [
    {
     "name": "stderr",
     "output_type": "stream",
     "text": [
      "Le chargement a nécessité le package : ape\n",
      "\n",
      "Le chargement a nécessité le package : nloptr\n",
      "\n",
      "Le chargement a nécessité le package : GenSA\n",
      "\n",
      "Le chargement a nécessité le package : maps\n",
      "\n",
      "Le chargement a nécessité le package : MASS\n",
      "\n",
      "Le chargement a nécessité le package : minpack.lm\n",
      "\n",
      "Le chargement a nécessité le package : rgl\n",
      "\n",
      "This build of rgl does not include OpenGL functions.  Use\n",
      " rglwidget() to display results, e.g. via options(rgl.printRglwidget = TRUE).\n",
      "\n",
      "Le chargement a nécessité le package : robustbase\n",
      "\n",
      "Le chargement a nécessité le package : Matrix\n",
      "\n"
     ]
    }
   ],
   "source": [
    "library(\"corHMM\")\n",
    "library(\"stringr\")\n",
    "library(\"phytools\")\n",
    "library(\"qpcR\")"
   ]
  },
  {
   "cell_type": "markdown",
   "metadata": {},
   "source": [
    "### Loading data"
   ]
  },
  {
   "cell_type": "code",
   "execution_count": 2,
   "metadata": {},
   "outputs": [],
   "source": [
    "df<-read.csv(\"example_data_MT.tsv\", sep=\"\\t\", header =TRUE) # omit sep =\"\\t\" for .csv files\n",
    "phy<-read.tree(\"example_tree.tree\") #phy<-read.nexus(\"example_tree.nex\")"
   ]
  },
  {
   "cell_type": "markdown",
   "metadata": {},
   "source": [
    "### Cleaning and preparing data"
   ]
  },
  {
   "cell_type": "code",
   "execution_count": 3,
   "metadata": {},
   "outputs": [],
   "source": [
    "states<-df[,c(1,2)]\n",
    "states_traits<-states[!states[,1] %in% setdiff(states[,1], phy$tip.label),]\n",
    "colnames(states_traits)<-c(\"Species\", \"Cat\")\n",
    "states_traits[is.na(states_traits)]<-\"?\""
   ]
  },
  {
   "cell_type": "markdown",
   "metadata": {},
   "source": [
    "## One rate models"
   ]
  },
  {
   "cell_type": "markdown",
   "metadata": {},
   "source": [
    "### Model 1 : equal rates"
   ]
  },
  {
   "cell_type": "code",
   "execution_count": 4,
   "metadata": {
    "scrolled": true
   },
   "outputs": [
    {
     "name": "stdout",
     "output_type": "stream",
     "text": [
      "You specified 'fixed.nodes=FALSE' but included a phy object with node labels. These node labels have been removed.\n",
      "State distribution in data:\n",
      "States:\t1\t2\t3\t4\t5\t\n",
      "Counts:\t23\t23\t9\t5\t5\t\n",
      "Beginning thorough optimization search -- performing 0 random restarts \n",
      "Finished. Inferring ancestral states using marginal reconstruction. \n"
     ]
    }
   ],
   "source": [
    "bt_1_eq<-corHMM(phy, states_traits, rate.cat = 1, rate.mat=NULL, model = \"ER\", node.states = \"marginal\",\n",
    "fixed.nodes=FALSE, p=NULL, root.p=\"yang\", ip=NULL, nstarts=0, n.cores=5,\n",
    "get.tip.states = FALSE, lewis.asc.bias = FALSE, collapse = TRUE, lower.bound = 1e-9,\n",
    "upper.bound = 100, opts=NULL)"
   ]
  },
  {
   "cell_type": "markdown",
   "metadata": {},
   "source": [
    "### Model 2 : symmetrical rates"
   ]
  },
  {
   "cell_type": "code",
   "execution_count": 5,
   "metadata": {},
   "outputs": [
    {
     "name": "stdout",
     "output_type": "stream",
     "text": [
      "You specified 'fixed.nodes=FALSE' but included a phy object with node labels. These node labels have been removed.\n",
      "State distribution in data:\n",
      "States:\t1\t2\t3\t4\t5\t\n",
      "Counts:\t23\t23\t9\t5\t5\t\n",
      "Beginning thorough optimization search -- performing 0 random restarts \n",
      "Finished. Inferring ancestral states using marginal reconstruction. \n"
     ]
    }
   ],
   "source": [
    "bt_1_sym<-corHMM(phy, states_traits, rate.cat = 1, rate.mat=NULL, model = \"SYM\", node.states = \"marginal\",\n",
    "fixed.nodes=FALSE, p=NULL, root.p=\"yang\", ip=NULL, nstarts=0, n.cores=5,\n",
    "get.tip.states = FALSE, lewis.asc.bias = FALSE, collapse = TRUE, lower.bound = 1e-9,\n",
    "upper.bound = 100, opts=NULL)"
   ]
  },
  {
   "cell_type": "markdown",
   "metadata": {},
   "source": [
    "### Model 3 : all rates differ"
   ]
  },
  {
   "cell_type": "code",
   "execution_count": 6,
   "metadata": {
    "scrolled": true
   },
   "outputs": [
    {
     "name": "stdout",
     "output_type": "stream",
     "text": [
      "You specified 'fixed.nodes=FALSE' but included a phy object with node labels. These node labels have been removed.\n",
      "State distribution in data:\n",
      "States:\t1\t2\t3\t4\t5\t\n",
      "Counts:\t23\t23\t9\t5\t5\t\n",
      "Beginning thorough optimization search -- performing 0 random restarts \n",
      "Finished. Inferring ancestral states using marginal reconstruction. \n"
     ]
    }
   ],
   "source": [
    "bt_1_ard<-corHMM(phy, states_traits, rate.cat = 1, rate.mat=NULL, model = \"ARD\", node.states = \"marginal\",\n",
    "fixed.nodes=FALSE, p=NULL, root.p=\"yang\", ip=NULL, nstarts=0, n.cores=5,\n",
    "get.tip.states = FALSE, lewis.asc.bias = FALSE, collapse = TRUE, lower.bound = 1e-9,\n",
    "upper.bound = 100, opts=NULL)"
   ]
  },
  {
   "cell_type": "markdown",
   "metadata": {},
   "source": [
    "## Two rate models"
   ]
  },
  {
   "cell_type": "markdown",
   "metadata": {},
   "source": [
    "### Model 1 : equal rates"
   ]
  },
  {
   "cell_type": "code",
   "execution_count": 7,
   "metadata": {
    "scrolled": true
   },
   "outputs": [
    {
     "name": "stdout",
     "output_type": "stream",
     "text": [
      "You specified 'fixed.nodes=FALSE' but included a phy object with node labels. These node labels have been removed.\n",
      "State distribution in data:\n",
      "States:\t1\t2\t3\t4\t5\t\n",
      "Counts:\t23\t23\t9\t5\t5\t\n",
      "Beginning thorough optimization search -- performing 0 random restarts \n",
      "Finished. Inferring ancestral states using marginal reconstruction. \n"
     ]
    }
   ],
   "source": [
    "bt_2_eq<-corHMM(phy, states_traits, rate.cat = 2, rate.mat=NULL, model = \"ER\", node.states = \"marginal\",\n",
    "fixed.nodes=FALSE, p=NULL, root.p=\"yang\", ip=NULL, nstarts=0, n.cores=5,\n",
    "get.tip.states = FALSE, lewis.asc.bias = FALSE, collapse = TRUE, lower.bound = 1e-9,\n",
    "upper.bound = 100, opts=NULL)"
   ]
  },
  {
   "cell_type": "markdown",
   "metadata": {},
   "source": [
    "### Model 2 : symmetrical rates"
   ]
  },
  {
   "cell_type": "code",
   "execution_count": 8,
   "metadata": {},
   "outputs": [
    {
     "name": "stdout",
     "output_type": "stream",
     "text": [
      "You specified 'fixed.nodes=FALSE' but included a phy object with node labels. These node labels have been removed.\n",
      "State distribution in data:\n",
      "States:\t1\t2\t3\t4\t5\t\n",
      "Counts:\t23\t23\t9\t5\t5\t\n",
      "Beginning thorough optimization search -- performing 0 random restarts \n",
      "Finished. Inferring ancestral states using marginal reconstruction. \n"
     ]
    }
   ],
   "source": [
    "bt_2_sym<-corHMM(phy, states_traits, rate.cat = 2, rate.mat=NULL, model = \"SYM\", node.states = \"marginal\",\n",
    "fixed.nodes=FALSE, p=NULL, root.p=\"yang\", ip=NULL, nstarts=0, n.cores=5,\n",
    "get.tip.states = FALSE, lewis.asc.bias = FALSE, collapse = TRUE, lower.bound = 1e-9,\n",
    "upper.bound = 100, opts=NULL)"
   ]
  },
  {
   "cell_type": "markdown",
   "metadata": {},
   "source": [
    "### Model 3 : all rates differ"
   ]
  },
  {
   "cell_type": "code",
   "execution_count": 9,
   "metadata": {},
   "outputs": [
    {
     "name": "stdout",
     "output_type": "stream",
     "text": [
      "You specified 'fixed.nodes=FALSE' but included a phy object with node labels. These node labels have been removed.\n",
      "State distribution in data:\n",
      "States:\t1\t2\t3\t4\t5\t\n",
      "Counts:\t23\t23\t9\t5\t5\t\n",
      "Beginning thorough optimization search -- performing 0 random restarts \n",
      "Finished. Inferring ancestral states using marginal reconstruction. \n"
     ]
    }
   ],
   "source": [
    "bt_2_ard<-corHMM(phy, states_traits, rate.cat = 2, rate.mat=NULL, model = \"ARD\", node.states = \"marginal\",\n",
    "fixed.nodes=FALSE, p=NULL, root.p=\"yang\", ip=NULL, nstarts=0, n.cores=5,\n",
    "get.tip.states = FALSE, lewis.asc.bias = FALSE, collapse = TRUE, lower.bound = 1e-9,\n",
    "upper.bound = 100, opts=NULL)"
   ]
  },
  {
   "cell_type": "markdown",
   "metadata": {},
   "source": [
    "## Three rate models"
   ]
  },
  {
   "cell_type": "markdown",
   "metadata": {},
   "source": [
    "### Model 1 : equal rates"
   ]
  },
  {
   "cell_type": "code",
   "execution_count": 10,
   "metadata": {},
   "outputs": [
    {
     "name": "stdout",
     "output_type": "stream",
     "text": [
      "You specified 'fixed.nodes=FALSE' but included a phy object with node labels. These node labels have been removed.\n",
      "State distribution in data:\n",
      "States:\t1\t2\t3\t4\t5\t\n",
      "Counts:\t23\t23\t9\t5\t5\t\n",
      "Beginning thorough optimization search -- performing 0 random restarts \n",
      "Finished. Inferring ancestral states using marginal reconstruction. \n"
     ]
    }
   ],
   "source": [
    "bt_3_eq<-corHMM(phy, states_traits, rate.cat = 3, rate.mat=NULL, model = \"ER\", node.states = \"marginal\",\n",
    "fixed.nodes=FALSE, p=NULL, root.p=\"yang\", ip=NULL, nstarts=0, n.cores=5,\n",
    "get.tip.states = FALSE, lewis.asc.bias = FALSE, collapse = TRUE, lower.bound = 1e-9,\n",
    "upper.bound = 100, opts=NULL)"
   ]
  },
  {
   "cell_type": "markdown",
   "metadata": {},
   "source": [
    "### Model 2 : symmetrical rates"
   ]
  },
  {
   "cell_type": "code",
   "execution_count": 11,
   "metadata": {},
   "outputs": [
    {
     "name": "stdout",
     "output_type": "stream",
     "text": [
      "You specified 'fixed.nodes=FALSE' but included a phy object with node labels. These node labels have been removed.\n",
      "State distribution in data:\n",
      "States:\t1\t2\t3\t4\t5\t\n",
      "Counts:\t23\t23\t9\t5\t5\t\n",
      "Beginning thorough optimization search -- performing 0 random restarts \n",
      "Finished. Inferring ancestral states using marginal reconstruction. \n"
     ]
    }
   ],
   "source": [
    "bt_3_sym<-corHMM(phy, states_traits, rate.cat = 3, rate.mat=NULL, model = \"SYM\", node.states = \"marginal\",\n",
    "fixed.nodes=FALSE, p=NULL, root.p=\"yang\", ip=NULL, nstarts=0, n.cores=5,\n",
    "get.tip.states = FALSE, lewis.asc.bias = FALSE, collapse = TRUE, lower.bound = 1e-9,\n",
    "upper.bound = 100, opts=NULL)"
   ]
  },
  {
   "cell_type": "markdown",
   "metadata": {},
   "source": [
    "### Model 3 : all rates differ"
   ]
  },
  {
   "cell_type": "code",
   "execution_count": 12,
   "metadata": {},
   "outputs": [
    {
     "name": "stdout",
     "output_type": "stream",
     "text": [
      "You specified 'fixed.nodes=FALSE' but included a phy object with node labels. These node labels have been removed.\n",
      "State distribution in data:\n",
      "States:\t1\t2\t3\t4\t5\t\n",
      "Counts:\t23\t23\t9\t5\t5\t\n",
      "Beginning thorough optimization search -- performing 0 random restarts \n",
      "Finished. Inferring ancestral states using marginal reconstruction. \n"
     ]
    }
   ],
   "source": [
    "bt_3_ard<-corHMM(phy, states_traits, rate.cat = 3, rate.mat=NULL, model = \"ARD\", node.states = \"marginal\",\n",
    "fixed.nodes=FALSE, p=NULL, root.p=\"yang\", ip=NULL, nstarts=0, n.cores=5,\n",
    "get.tip.states = FALSE, lewis.asc.bias = FALSE, collapse = TRUE, lower.bound = 1e-9,\n",
    "upper.bound = 100, opts=NULL)"
   ]
  },
  {
   "cell_type": "markdown",
   "metadata": {},
   "source": [
    "### Building model selection table "
   ]
  },
  {
   "cell_type": "code",
   "execution_count": 13,
   "metadata": {},
   "outputs": [],
   "source": [
    "df_trait<-data.frame(cbind(c(bt_1_eq$AICc,  bt_1_sym$AICc, bt_1_ard$AICc,\n",
    "                          bt_2_eq$AICc, bt_2_sym$AICc, bt_2_ard$AICc,\n",
    "                          bt_3_eq$AICc, bt_3_sym$AICc,  bt_3_ard$AICc),\n",
    "                akaike.weights(c(bt_1_eq$AICc,  bt_1_sym$AICc, bt_1_ard$AICc,\n",
    "                          bt_2_eq$AICc, bt_2_sym$AICc, bt_2_ard$AICc,\n",
    "                          bt_3_eq$AICc, bt_3_sym$AICc,  bt_3_ard$AICc))$deltaAIC,\n",
    "                akaike.weights(c(bt_1_eq$AICc,  bt_1_sym$AICc, bt_1_ard$AICc,\n",
    "                          bt_2_eq$AICc, bt_2_sym$AICc, bt_2_ard$AICc,\n",
    "                          bt_3_eq$AICc, bt_3_sym$AICc,  bt_3_ard$AICc))$weights,\n",
    "                c(\n",
    "(max(as.vector(bt_1_eq$index.mat)[!is.na(as.vector(bt_1_eq$index.mat))])), (max(as.vector(bt_1_sym$index.mat)[!is.na(as.vector(bt_1_sym$index.mat))])), (max(as.vector(bt_1_ard$index.mat)[!is.na(as.vector(bt_1_ard$index.mat))])),\n",
    "(max(as.vector(bt_2_eq$index.mat)[!is.na(as.vector(bt_2_eq$index.mat))])), (max(as.vector(bt_2_sym$index.mat)[!is.na(as.vector(bt_2_sym$index.mat))])), (max(as.vector(bt_2_ard$index.mat)[!is.na(as.vector(bt_2_ard$index.mat))])),\n",
    "(max(as.vector(bt_3_eq$index.mat)[!is.na(as.vector(bt_3_eq$index.mat))])), (max(as.vector(bt_3_sym$index.mat)[!is.na(as.vector(bt_3_sym$index.mat))])), (max(as.vector(bt_3_ard$index.mat)[!is.na(as.vector(bt_3_ard$index.mat))])))\n",
    "                ))\n",
    "rownames(df_trait)<-c(\"bt_1_eq\", \"bt_1_sym\", \"bt_1_ard\",\n",
    "                          \"bt_2_eq\",  \"bt_2_sym\", \"bt_2_ard\",\n",
    "                          \"bt_3_eq\",  \"bt_3_sym\", \"bt_3_ard\")\n",
    "colnames(df_trait)<-c(\"AICc\", \"Delta_AICc\", \"AICcWt\", \"K_rates\")\n",
    "\n",
    "write.table(df_trait, \"Model_selection_multi_state_trait.tsv\", sep =\"\\t\")\n",
    "saveRDS(eval(parse(text = rownames(df_trait)[which.min(df_trait$AICc)])),paste(\"data_BF_MT.rds\", sep =\"\"))"
   ]
  }
 ],
 "metadata": {
  "kernelspec": {
   "display_name": "R",
   "language": "R",
   "name": "ir"
  },
  "language_info": {
   "codemirror_mode": "r",
   "file_extension": ".r",
   "mimetype": "text/x-r-source",
   "name": "R",
   "pygments_lexer": "r",
   "version": "4.3.3"
  }
 },
 "nbformat": 4,
 "nbformat_minor": 4
}
